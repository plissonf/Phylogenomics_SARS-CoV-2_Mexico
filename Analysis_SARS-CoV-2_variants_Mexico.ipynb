#Set working directory
import os
os.chdir('...')
print(os.getcwd())


#Modules
import pandas as pd
import numpy as np
import matplotlib as plt
import seaborn as sns

#Loading Data 
MX_variants = pd.read_csv('./Data/allvarpos_mns_parentesis_newlineages_aa_ours.tsv', sep='\t')
     #mutations          #N   #genomes                                                                  #lineage
# 417N (aat), 478K (aaa)  1   >Mexico/CMX-INMEGEN-02-10-15/2021; >Mexico/CMX-INMEGEN-02-08-15/2021; ... 20B


#Define all unique sequences
def all_sequences(df):
    # list all rows
    seqs = []
    for s2 in range(0, len(df['genomes'])):
        # split and list row with multiple mutations
        if '; ' in df['genomes'][s2]:
            res = df['genomes'][s2].split('; ')
            seqs += res
        # list row with a single mutation
        else:
            seqs.append(df['genomes'][s2])
    
    all_seqs = np.array(seqs)
    return all_seqs

all_seqs = list(all_sequences(MX_variants)) # 1552 mutations

# Sort all 1552 sequences according to lineages
sorted_NL_clades = MX_variants.sort_values(by='lineage')
sorted_NL_clades

## List unique mutations and unique sequences

# Make sure that mutations column count only a single mutation per row. If the row count more than 1 mutation, replicate row with sequences.

# row 6: 417N (aat); 478K (aaa) 1 >Mexico/CMX-INMEGEN-02-10-15/2021 should be split into 2 rows where each row has distinct mutation but identical sequence.
# 417N (aat)  1   >Mexico/CMX-INMEGEN-02-10-15/2021
# 478K (aaa)  1   >Mexico/CMX-INMEGEN-02-10-15/2021

def unique_mutations(df):
    # list all rows
    muts = []
    for s in range(0, len(df['mutations'])):
        # split and list row with multiple mutations
        if '; ' in df['mutations'][s]:
            res = df['mutations'][s].split('; ')
            muts += res
        # list row with a single mutation
        else:
            muts.append(df['mutations'][s])
    
    #convert nested list of string (mutation) into a single list
    #flatmuts = [item for elem in muts for item in elem]
    uniq_muts = np.unique(np.array(muts))
    return uniq_muts

Uniq_muts = list(unique_mutations(sorted_NL_clades)) #  315 unique mutations

sorted_NL_muts_AAs = ['L5# (c--)', 
 'L5F (ttt)',
 'V6# (-tt)',   
 'V6F (ttt)', 
 'L8F (ttt)',    
 'P9L (cta)',
 'S12F (ttt)', 
 'S13G (ggt)',
 'S13I (att)',    
 'V16I (att)',    
 'N17D (gat)',    
 'L18F (ttt)',
 'T19I (ata)',        
 'T20I (atc)',
 'T20N (aac)',
 'R21I (ata)',  
 'T22I (att)',
 'L24S (tca)',    
 'P26S (tct)',     
 'A27S (tca)',
 'A27V (gta)',
 'Y28F (ttc)',
 'T29I (att)',    
 'T33A (gca)',
 'T33I (ata)',
 'S46A (gca)',    
 'H49Y (tat)',    
 'L54F (ttt)',
 'A67S (tct)',
 'A67V (gtt)',
 'I68# (a--)', 
 'I68L (tta)',
 'H69# (---)',
 'V70# (-tc)',
 'V70F (ttc)',   
 'G72E (gag)',    
 'T73I (atc)',  
 'G75R (cgt)',
 'G75V (gtt)',  
 'R78M (atg)',
 'D80Y (tat)',
 'V90F (ttt)',    
 'T95I (att)',
 'S98F (ttt)',
 'I100# (---)',
 'I101V (gta)',
 'R102S (agt)',   
 'N121D (gat)',    
 'V127# (g--)',   
 'V127F (ttt)',
 'I128# (-tt)',    
 'V130L (ctc)',
 'E132Q (caa)',
 'D138H (cat)',
 'D138Y (tat)',
 'L141F (ttt)',
 'G142D (gat)',
 'V143# (gt-)',
 'V143F (ttt)',
 'Y144# (--t)',
 'H146Y (tac)',
 'S151I (att)',
 'W152C (tgt)',
 'W152L (ttg)',
 'W152R (agg)',
 'W152R (cgg)',
 'M153I (att)',
 'M153T (acg)',
 'E154A (gca)',
 'E154V (gta)',
 'S155N (aat)',
 'F157L (tta)',
 'R158G (gga)',
 'Y170H (cat)',
 'P174S (tct)',
 'L176F (ttt)',    
 'E180A (gca)',
 'E180K (aaa)',
 'G181V (gta)',
 'F186S (tcc)',
 'L189F (ttt)',   
 'R190M (atg)',
 'R190S (agt)',
 'D198A (gct)',   
 'P209L (ctt)',
 'I210T (act)',
 'V213L (ttg)',
 'D215G (ggt)',
 'D215Y (tat)',
 'Q218E (gag)',
 'Q218H (cat)',
 'G219S (agt)',    
 'A222V (gtt)',
 'L226F (ttt)',
 'L229F (ttt)',
 'G232C (tgt)',
 'R246T (aca)',   
 'P251S (tct)',
 'D253N (aat)',
 'S254F (ttt)',
 'S256P (cca)',
 'G257D (gat)',
 'G257S (agt)',
 'W258L (ttg)',
 'T259R (aga)',
 'A260S (tct)',
 'G261A (gct)',
 'A262S (tct)',
 'Q271H (cat)',    
 'N282K (aaa)',
 'T284I (atc)',
 'A292S (tca)',
 'L293F (ttt)',
 'D294A (gcc)',    
 'T302K (aag)',
 'T307I (att)',
 'V308L (tta)',
 'E309Q (caa)',
 'F318N (aat)',
 'R319T (aca)',
 'V320A (gct)',
 'T323I (ata)',
 'E324Q (caa)',
 'P330S (tct)',    
 'R346K (aaa)',
 'A348S (tca)',
 'A352S (tct)',
 'N354S (agc)',
 'V367F (ttc)',
 'V367L (ctc)',
 'S373L (tta)',
 'S373T (aca)',
 'T376I (att)',
 'P384L (ctt)',
 'P384S (tct)',
 'V401L (tta)',
 'E406Q (caa)',
 'R408I (ata)',
 'K417N (aat)',
 'K417T (acg)',
 'N439K (aaa)',
 'N450K (aag)',
 'L452R (cgg)',
 'I468T (act)',
 'A475V (gtc)',
 'S477I (atc)',
 'S477N (aac)',
 'T478K (aaa)',
 'V483F (ttt)',
 'E484K (aaa)',
 'E484Q (caa)',
 'F490L (ctt)',
 'F490S (tct)',
 'S494P (cca)',
 'N501Y (tat)',
 'V503F (ttt)',
 'V503L (ctt)',
 'E516Q (caa)',
 'A520S (tca)',
 'A522S (tca)',
 'A522V (gta)',    
 'K558N (aat)',
 'K558R (agg)',
 'P561S (tct)',
 'R567K (aaa)',
 'A570D (gat)',
 'T572I (att)',
 'T573I (att)',
 'D574Y (tat)',
 'A575S (tct)',
 'E583D (gac)',
 'E583D (gat)',
 'T588A (gca)',    
 'D614G (ggt)',
 'V615F (ttt)',
 'T618I (ata)',
 'T618S (tca)',
 'V622F (ttt)',
 'V622I (att)',
 'P631S (tct)',
 'V635I (att)',
 'S640F (ttt)',
 'A653V (gtt)',
 'E654A (gca)',
 'E654K (aaa)',
 'E654Q (caa)',
 'H655R (cgt)',
 'H655Y (tat)',
 'E661D (gat)',
 'A668V (gta)',
 'Y674F (ttt)',
 'Q675H (cac)',
 'Q675H (cat)',
 'Q675L (ctg)',
 'T676A (gct)',
 'Q677H (cac)',
 'Q677H (cat)',
 'Q677P (ccg)',
 'N679K (aag)',       
 'S680F (ttt)',
 'P681H (cat)',
 'P681R (cgt)',
 'A684V (gta)',
 'V687L (tta)',
 'A688V (gtt)',
 'S689I (att)',
 'S691F (ttc)',
 'S698L (tta)', 
 'A701S (tca)',
 'A701V (gta)',
 'S704L (tta)',
 'S708A (gct)',
 'T716I (ata)',
 'T719I (att)',
 'T719S (agt)',    
 'T732A (gcc)',
 'T732A (gct)',
 'T732S (tcc)',   
 'E748Q (caa)',
 'N751Y (tat)',
 'G769V (gta)',
 'Q779R (cga)',
 'E780Q (caa)',
 'P807L (cta)',
 'P809S (tca)',   
 'S813I (atc)',
 'K814E (gag)',
 'A831S (tct)',
 'Q836K (aaa)',
 'Q836L (cta)',
 'A845S (tct)',
 'A846V (gtt)',
 'L849F (ttc)',
 'K854N (aat)',
 'T859I (att)',
 'T859N (aat)',
 'D867G (ggt)',
 'W886F (ttt)',
 'A892S (tct)',
 'A899S (tct)',    
 'D936G (ggc)',
 'D936H (cac)',
 'D936Y (tac)',
 'L938F (ttt)',
 'S939F (ttt)',
 'S939T (act)',
 'S940F (ttc)',
 'G946V (gta)',    
 'S982A (gca)',       
 'A1020S (tct)',
 'A1020V (gtt)',
 'T1027I (att)',
 'G1035V (gta)',
 'K1045N (aat)',
 'H1058Y (tat)',
 'L1063F (ttt)',
 'V1068L (ctc)',
 'K1073N (aat)',
 'T1077A (gct)',
 'A1078S (tct)',
 'D1084Y (tat)',
 'A1087S (tca)',
 'H1088Y (tac)',
 'R1091H (cat)',
 'H1101Y (tac)',
 'V1104L (tta)',
 'R1107S (agt)',
 'E1111Q (caa)',
 'I1114T (acc)',
 'I1114V (gtc)',
 'T1117I (ata)',
 'D1118H (cac)',
 'D1118Y (tac)',
 'V1122L (ttg)',
 'G1124V (gtt)',
 'V1133F (ttc)',
 'D1153Y (tat)',
 'P1162L (cta)',
 'P1162S (tca)',
 'D1163V (gtt)',
 'D1165Y (tat)',
 'G1167V (gtt)',
 'D1168G (ggc)',
 'V1176F (ttt)',
 'V1177L (tta)',
 'I1183V (gtt)',
 'K1191N (aat)',
 'Q1201H (cat)',
 'Q1201K (aaa)',
 'E1202Q (caa)',
 'L1203F (ttt)',
 'G1219V (gtt)',  
 'V1228L (tta)',
 'M1229I (atc)',
 'M1229I (att)',
 'V1230L (ttg)',
 'T1231I (ata)',
 'I1232F (ttt)',
 'C1235F (ttc)',
 'C1235S (agc)',
 'C1236S (agt)',
 'M1237I (att)',
 'L1244F (ttc)',
 'C1247F (ttt)',
 'C1250F (ttt)',
 'G1251V (gta)',
 'S1252F (ttc)',
 'S1252P (ccc)',
 'E1258D (gac)',
 'D1259H (cac)',
 'D1259Y (tac)',
 'K1266R (aga)',
 'G1267R (aga)',
 'V1268I (atc)',  
 'Y1272F (ttc)']

### Create an empty dataframe with unique sets of mutations and sequences
master_NL_AA_df = pd.DataFrame(0, index=sorted_NL_muts_AAs, columns=sorted_1552_seqs)
# Fill up the dataframe based on certain conditions: 
for k in range(0, len(MX_variants)):
    for i in range(0, len(master_NL_AA_df.index)):
        for j in range(0, len(master_NL_AA_df.columns)):
            if (master_NL_AA_df.index[i] in MX_variants['mutations'][k]) and (master_NL_AA_df.columns[j] in MX_variants['genomes'][k]):
                master_NL_AA_df.iloc[i,j] += 1
                #print(master_df.iloc[i,j])
            else:
                pass
    k +=1

# Sum of each row
sum_rows = pd.DataFrame(master_BJX_df.sum(axis=1), columns=['Frequency'], index=sorted_NL_muts_AAs)
sum_rows # complete mutations

# Sum of each column
sum_cols = pd.DataFrame(master_BJX_df.sum(axis=0), columns=["Sum_Mutations"])
sum_cols

# Most frequent mutations
most_freq_muts = sum_rows[sum_rows.Frequency >= 5].index
most_freq_muts
len(most_freq_muts)

### Create an empty dataframe with unique sets of mutations and sequences
subset_NL_AA_df = pd.DataFrame(0, index=most_freq_muts, columns=sorted_1552_seqs)
# Fill up the dataframe based on certain conditions: 
for k in range(0, len(MX_variants)):
    for i in range(0, len(subset_NL_AA_df.index)):
        for j in range(0, len(subset_NL_AA_df.columns)):
            if (subset_NL_AA_df.index[i] in MX_variants['mutations'][k]) and (subset_NL_AA_df.columns[j] in MX_variants['genomes'][k]):
                subset_NL_AA_df.iloc[i,j] += 1
                #print(master_df.iloc[i,j])
            else:
                pass
    k +=1

subset_NL_AA_df

### Transform original dataset (sorted_NL_clades) so we can get one lineage per genome.
NL_clades_list = []
for k in range(0, len(sorted_NL_clades)):
    for i in range(0, len(sorted_41_seqs)):
        if (sorted_41_seqs[i] in sorted_NL_clades['genomes'][k]):
            NL_clades_list.append(sorted_NL_clades['lineage'][k])

# Turn list into a dataset named MX_NL_clades (sorted)
MX_NL_clades = pd.DataFrame(NL_clades_list, columns=['lineage'], index=sorted_41_seqs)
MX_NL_clades

# Transposed subset_df
subset_NL_AA_df_transposed = subset_NL_AA_df.T

# Subset MX_clades with only sequences and clades associated
Clades = MX_NL_clades[['lineage']]
Clades.index = MX_NL_clades.index

#Merge transposed dataframe and Clades
subset_NL_AA_df_transposed_with_clades = pd.merge(subset_NL_AA_df_transposed, Clades, left_index=True, right_index=True)

# Sum up mutations frequencies based on matching 'Clade'
subset_NL_AA_df_transposed_by_clades = subset_NL_AA_df_transposed_with_clades.groupby('lineage')[most_freq_muts].sum()

# Normalizing mutations frequencies based on clades' density
Clades_counts = (pd.DataFrame([[6, 545, 348, 490, 12, 74, 2, 43, 6, 25, 1]], columns=subset_NL_AA_df_transposed_by_clades.index, index=most_freq_muts)).T
normalized_subset_NL_AA_df = (subset_NL_AA_df_transposed_by_clades.div(Clades_counts))

# Plot Heatmaps
#315 mutations
# Transposed master_df or subset_df
master_BJX_df_transposed = master_BJX_df.T

# Subset MX_clades with only sequences and clades associated
Clades = MX_NL_clades[['lineage']]
Clades.index = MX_NL_clades.index

#Merge transposed dataframe and Clades
master_NL_AA_df_transposed_with_clades = pd.merge(master_NL_AA_df_transposed, Clades, left_index=True, right_index=True)

# Sum up mutations frequencies based on matching 'lineage'
master_NL_AA_df_transposed_by_clades = master_NL_AA_df_transposed_with_clades.groupby('lineage')[sorted_NL_muts_AAs].sum()

# Normalizing mutations frequencies based on clades' density
Clades_counts = (pd.DataFrame([[16, 10, 5, 9, 1]], columns=master_NL_AA_df_transposed_by_clades.index, index=sorted_NL_muts_AAs)).T
normalized_master_NL_AA_df = (master_NL_AA_df_transposed_by_clades.div(Clades_counts))

# Plot Heatmaps
# 315 mutations
fig = pl.figure(figsize=(25,5))
fig.set_size_inches(25,5) 
ax = sns.heatmap(normalized_master_NL_AA_df, linewidths=0.3, linecolor='Grey', cmap="YlGnBu_r")
ax.yaxis.tick_left()
ax.xaxis.tick_top()
pl.legend([],[], frameon=False)
pl.yticks(rotation=0)
pl.xticks(rotation=90)
pl.xlabel("Mutations", size=14) 
pl.ylabel("Clades", size=14)
#pl.show()
#%matplotlib inline



# 51 most frequent mutations (in 5+ genomes)
fig = pl.figure()
fig.set_size_inches(20,5) 
ax = sns.heatmap(normalized_subset_NL_AA_df, linewidths=0.3, linecolor='Grey', cmap="YlGnBu_r")
ax.yaxis.tick_left()
ax.xaxis.tick_top()
pl.legend([],[], frameon=False)
pl.yticks(rotation=0)
pl.xticks(rotation=90)
pl.xlabel("Mutations", size=14) 
pl.ylabel("Clades", size=14)
#pl.show()
#%matplotlib inline

#Correlogram
# Correlation matrix
#corr_mat = master_NL_AA_df_transposed.corr()
corr_mat = subset_NL_AA_df_transposed.corr()
pl.figure(figsize=(10,10))
sns.heatmap(corr_mat, annot=False, cmap=plt.cm.Spectral, vmax=1.0, vmin=-1.0)
#plt.title("Correlogram between 315 mutations for 1553 genome sequences")
plt.title("Correlogram between 51 most frequent mutations for 1553 genome sequences")
#plt.show()
#%matplotlib inline
#corr_mat.to_csv('./.../Pearson_corr_matrix_315muts_1552seqs.csv')
corr_mat.to_csv('./.../Pearson_corr_matrix_51muts_1552seqs.csv')

# Covariance Matrix
cov_mat = np.cov(master_BJX_df)
pl.figure(figsize=(25,25))
sns.heatmap(cov_mat, annot=False, cmap=plt.cm.YlGnBu, vmax=0.025, vmin=0,  xticklabels=most_freq_muts, yticklabels=most_freq_muts)
#plt.title("Covariance between 315 mutations for 1552 genome sequences")
plt.title("Covariance between 51 most frequent mutations for 1552 genome sequences")
#plt.show()
#%matplotlib inline
#plt.savefig('./.../Covariance_matrix_315muts_1552seqs.pdf')
plt.savefig('./.../Covariance_matrix_51muts_1552seqs.pdf')
#cov_mat_df = pd.DataFrame(cov_mat, columns=sorted_NL_muts_AA, index=sorted_NL_muts_AA)
#cov_mat_df.to_csv('./.../Covariance_matrix_315muts_1552seqs_11clades.csv')
cov_mat_df = pd.DataFrame(cov_mat, columns=most_freq_muts, index=most_freq_muts)
cov_mat_df.to_csv('./Data/COVID-19/Covariance_matrix_51muts_1517seqs.csv')



